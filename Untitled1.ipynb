{
 "cells": [
  {
   "cell_type": "code",
   "execution_count": null,
   "id": "b0fe08df-affe-43a4-96fb-c01e05f78acb",
   "metadata": {},
   "outputs": [],
   "source": []
  }
 ],
 "metadata": {
  "kernelspec": {
   "display_name": "",
   "name": ""
  },
  "language_info": {
   "name": ""
  }
 },
 "nbformat": 4,
 "nbformat_minor": 5
}
