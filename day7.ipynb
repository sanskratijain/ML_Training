{
 "cells": [
  {
   "cell_type": "markdown",
   "id": "68e6ed9c",
   "metadata": {},
   "source": [
    "1. this is me\n",
    "2. this is who"
   ]
  },
  {
   "cell_type": "code",
   "execution_count": 3,
   "id": "19730b4a",
   "metadata": {},
   "outputs": [],
   "source": [
    "import os"
   ]
  },
  {
   "cell_type": "code",
   "execution_count": 4,
   "id": "9d9cec5b",
   "metadata": {},
   "outputs": [
    {
     "data": {
      "text/plain": [
       "'/Users/sanskratijain/Desktop/Training ML'"
      ]
     },
     "execution_count": 4,
     "metadata": {},
     "output_type": "execute_result"
    }
   ],
   "source": [
    "os.getcwd()"
   ]
  },
  {
   "cell_type": "code",
   "execution_count": 5,
   "id": "722dfda3",
   "metadata": {},
   "outputs": [],
   "source": [
    "#To make a folder\n",
    "os.mkdir('empty_folder')"
   ]
  },
  {
   "cell_type": "code",
   "execution_count": 6,
   "id": "e0ee0058",
   "metadata": {},
   "outputs": [],
   "source": [
    "#To remove a folder\n",
    "os.rmdir('empty_folder')"
   ]
  },
  {
   "cell_type": "markdown",
   "id": "06bbc1be",
   "metadata": {},
   "source": [
    "# RANDOM"
   ]
  },
  {
   "cell_type": "code",
   "execution_count": 7,
   "id": "c6b03920",
   "metadata": {},
   "outputs": [],
   "source": [
    "import random"
   ]
  },
  {
   "cell_type": "code",
   "execution_count": 8,
   "id": "709d9187",
   "metadata": {},
   "outputs": [
    {
     "name": "stdout",
     "output_type": "stream",
     "text": [
      "0.3860925296737785\n"
     ]
    }
   ],
   "source": [
    "val = random.random()\n",
    "print(val)"
   ]
  },
  {
   "cell_type": "code",
   "execution_count": 12,
   "id": "2bcdabf2",
   "metadata": {},
   "outputs": [],
   "source": [
    "val2 = random.randint(1,10)"
   ]
  },
  {
   "cell_type": "code",
   "execution_count": 13,
   "id": "0fb74cbf",
   "metadata": {},
   "outputs": [
    {
     "name": "stdout",
     "output_type": "stream",
     "text": [
      "1\n"
     ]
    }
   ],
   "source": [
    "print(val2)"
   ]
  },
  {
   "cell_type": "code",
   "execution_count": 14,
   "id": "244b71f5",
   "metadata": {},
   "outputs": [
    {
     "name": "stdout",
     "output_type": "stream",
     "text": [
      "bonjour\n"
     ]
    }
   ],
   "source": [
    "m =['hi','hello','hola','bonjour']\n",
    "val = random.choice(m)\n",
    "print(val)"
   ]
  },
  {
   "cell_type": "code",
   "execution_count": 15,
   "id": "b79b2f69",
   "metadata": {},
   "outputs": [
    {
     "name": "stdout",
     "output_type": "stream",
     "text": [
      "['bonjour', 'hola']\n"
     ]
    }
   ],
   "source": [
    "m =['hi','hello','hola','bonjour']\n",
    "val = random.choices(m,k=2)\n",
    "print(val)"
   ]
  },
  {
   "cell_type": "code",
   "execution_count": 16,
   "id": "698da921",
   "metadata": {},
   "outputs": [
    {
     "name": "stdout",
     "output_type": "stream",
     "text": [
      "['hello', 'bonjour', 'hello']\n"
     ]
    }
   ],
   "source": [
    "m =['hi','hello','hola','bonjour']\n",
    "val = random.choices(m,k=3)\n",
    "print(val)"
   ]
  },
  {
   "cell_type": "code",
   "execution_count": 17,
   "id": "86f07d8b",
   "metadata": {},
   "outputs": [
    {
     "name": "stdout",
     "output_type": "stream",
     "text": [
      "['hola', 'hello', 'hola', 'hello']\n"
     ]
    }
   ],
   "source": [
    "m =['hi','hello','hola','bonjour']\n",
    "val = random.choices(m,k=4)\n",
    "print(val)"
   ]
  },
  {
   "cell_type": "code",
   "execution_count": 18,
   "id": "87f505be",
   "metadata": {},
   "outputs": [
    {
     "name": "stdout",
     "output_type": "stream",
     "text": [
      "['hi', 'bonjour']\n"
     ]
    }
   ],
   "source": [
    "m =['hi','hello','hola','bonjour']\n",
    "val = random.choices(m,k=2)\n",
    "print(val)"
   ]
  },
  {
   "cell_type": "code",
   "execution_count": 19,
   "id": "21c851e4",
   "metadata": {},
   "outputs": [
    {
     "name": "stdout",
     "output_type": "stream",
     "text": [
      "['bonjour', 'bonjour', 'bonjour', 'bonjour', 'bonjour']\n"
     ]
    }
   ],
   "source": [
    "m =['hi','hello','hola','bonjour']\n",
    "val = random.choices(m,k=5)\n",
    "print(val)"
   ]
  },
  {
   "cell_type": "code",
   "execution_count": 20,
   "id": "2aa48be6",
   "metadata": {},
   "outputs": [
    {
     "name": "stdout",
     "output_type": "stream",
     "text": [
      "['bonjour', 'hola', 'hi', 'hello']\n"
     ]
    }
   ],
   "source": [
    "#shuffle\n",
    "random.shuffle(m)\n",
    "print(m)"
   ]
  },
  {
   "cell_type": "code",
   "execution_count": null,
   "id": "2fa37136",
   "metadata": {},
   "outputs": [],
   "source": []
  }
 ],
 "metadata": {
  "kernelspec": {
   "display_name": "Python 3 (ipykernel)",
   "language": "python",
   "name": "python3"
  },
  "language_info": {
   "codemirror_mode": {
    "name": "ipython",
    "version": 3
   },
   "file_extension": ".py",
   "mimetype": "text/x-python",
   "name": "python",
   "nbconvert_exporter": "python",
   "pygments_lexer": "ipython3",
   "version": "3.9.12"
  }
 },
 "nbformat": 4,
 "nbformat_minor": 5
}
